{
 "cells": [
  {
   "cell_type": "markdown",
   "metadata": {},
   "source": [
    "# TextRank: Bringing Order into Texts\n",
    "In this part you will implement [TextRank: Bringing Order into Texts](https://web.eecs.umich.edu/~mihalcea/papers/mihalcea.emnlp04.pdf) paper.\n",
    "\n",
    "[Mihalcea](https://scholar.google.com/citations?user=UetM7FgAAAAJ&hl=en) and [Tarau](https://scholar.google.com/citations?user=JUMRc-oAAAAJ&hl=en) in this paper, introduced TextRank – a **graphbased ranking model for text processing**, and show how it can be successfully used for natural language applications. In particular, they proposed and evaluated two innovative unsupervised approaches for keyword and sentence extraction.\n",
    "\n",
    "The basic idea implemented by a graph-based ranking model is that of “voting” or “recommendation”.\n",
    "\n",
    "When one vertex links to another one, it is basically casting a vote for that other vertex. The higher the number of votes that are cast for a vertex, the higher the importance of the vertex. Moreover, the importance of the vertex casting the vote determines how important the vote itself is, and this information is also taken into account by the ranking model.**This paper relies on Google's PageRank**.\n",
    "\n",
    "## Defenition\n",
    "\n",
    "Formally, let $G=(V, E)$ be a directed graph with the set of vertices $V$ and set of edges $E$, where $E$ is a subset of $V \\times V$. For a given vertex $V_i$ , let $In(V_i)$ be the set of vertices that point to it (predecessors), and let $Out(V_i)$ be the set of vertices that vertex $V_i$ points to (successors). The score of a vertex $V_i$ is defined as follows (Brin and Page, 1998):\n",
    "\n",
    "$S(V_i) = (1-d) + d* \\sum_{j \\in In(V_i)} \\frac{1}{|Out(V_j)|}S(V_j)$\n",
    "\n",
    "\n",
    "where d is a damping factor and usually set to 0.85.\n",
    "\n",
    "## Graph representation\n",
    "\n",
    "TextRank builds a weighted graph representation of a document using words as nodes and **co-ocurrence** [<sup>1</sup>](#fn1) frequencies between pairs of words as edge weights. It then applies PageRank to this graph, and treats the PageRank score of each word as its significance.\n",
    "\n",
    "<img src=\"textrank.png\" width=\"400\" align=\"center\">\n",
    "\n",
    "<span id=\"fn1\"> [1]: In linguistics, co-occurrence or cooccurrence is an above-chance frequency of occurrence of two terms (also known as coincidence or concurrence) from a text corpus alongside each other in a certain order. For example, when the term \"strong coffee\" appears in a document, the term \"espresso bean\" probably also tends to occur in that document.</span>\n"
   ]
  },
  {
   "cell_type": "code",
   "execution_count": 1,
   "metadata": {},
   "outputs": [],
   "source": [
    "import os\n",
    "import sys\n",
    "import copy\n",
    "import collections\n",
    "\n",
    "import nltk\n",
    "import nltk.tokenize\n",
    "\n",
    "sys.path.append(\".\")\n",
    "\n",
    "import pandas\n",
    "import page_rank\n",
    "import text_rank"
   ]
  },
  {
   "cell_type": "code",
   "execution_count": 2,
   "metadata": {},
   "outputs": [],
   "source": [
    "import numpy as np"
   ]
  },
  {
   "cell_type": "code",
   "execution_count": 3,
   "metadata": {},
   "outputs": [
    {
     "name": "stderr",
     "output_type": "stream",
     "text": [
      "[nltk_data] Downloading package punkt to\n",
      "[nltk_data]     C:\\Users\\sepis\\AppData\\Roaming\\nltk_data...\n",
      "[nltk_data]   Package punkt is already up-to-date!\n",
      "[nltk_data] Downloading package averaged_perceptron_tagger to\n",
      "[nltk_data]     C:\\Users\\sepis\\AppData\\Roaming\\nltk_data...\n",
      "[nltk_data]   Package averaged_perceptron_tagger is already up-to-\n",
      "[nltk_data]       date!\n"
     ]
    },
    {
     "data": {
      "text/plain": [
       "True"
      ]
     },
     "execution_count": 3,
     "metadata": {},
     "output_type": "execute_result"
    }
   ],
   "source": [
    "nltk.download('punkt')\n",
    "nltk.download('averaged_perceptron_tagger')"
   ]
  },
  {
   "cell_type": "markdown",
   "metadata": {},
   "source": [
    "## Preprocessing\n",
    "**Tokenization** is a common task in **Natural Language Processing** (NLP). It’s a fundamental step in both traditional NLP methods like Count Vectorizer and Advanced Deep Learning-based architectures like [Transformers](https://www.analyticsvidhya.com/blog/2019/06/understanding-transformers-nlp-state-of-the-art-models/?utm_source=blog&utm_medium=what-is-tokenization-nlp).\n",
    "\n",
    "This is the process by which a large quantity of text is divided into smaller parts called **tokens**.\n",
    "\n",
    "Natural Language toolkit has very important module [**NLTK**](https://www.nltk.org/api/nltk.tokenize.html) tokenize sentences which further comprises of sub-modules word tokenize and sentence tokenize.\n",
    "\n",
    "We use the method [word_tokenize()](https://www.geeksforgeeks.org/python-nltk-nltk-tokenizer-word_tokenize/) to split a sentence into words. Please refer to below word tokenize NLTK example to understand the theory better.\n",
    "```python\n",
    "Input: \"I love Applied linear algebra! specially the projects.\"\n",
    "Output: ['I', 'love', 'Applied', 'linear', 'algebra', '!', 'specially', 'the', 'projects', '.']\n",
    "```\n",
    "After tokenizing the document we should filter irrelevant [PoS tags](https://en.wikipedia.org/wiki/Part-of-speech_tagging) and punctuation (e.g, !, ?)."
   ]
  },
  {
   "cell_type": "code",
   "execution_count": 4,
   "metadata": {},
   "outputs": [],
   "source": [
    "def __preprocess_document(document, relevant_pos_tags):\n",
    "    '''\n",
    "    This function accepts a string representation \n",
    "    of a document as input, and returns a tokenized\n",
    "    list of words corresponding to that document.\n",
    "    '''\n",
    "    \n",
    "    # Tokenizing the document\n",
    "    words = nltk.word_tokenize(document)  # Your code here\n",
    "#     print(words)\n",
    "    \n",
    "    # PoS tagging\n",
    "    # Your code here, use nltk.pos_tag for words and make a list of second pair\n",
    "    pos_tags = [role for word, role in nltk.pos_tag(words)]\n",
    "#     print(pos_tags)\n",
    "    \n",
    "    # Filter out words with irrelevant POS tags\n",
    "    filtered_words = []\n",
    "    for index, word in enumerate(words):\n",
    "        word = word.lower()\n",
    "        tag = pos_tags[index]\n",
    "        # TODO: append `word` to `filtered_words` if the word is not a punctuation and pos is relevant.\n",
    "        # You can use `__is_punctuation` function and `relevant_pos_tags`\n",
    "        if not text_rank.__is_punctuation(word) and tag in relevant_pos_tags:\n",
    "            filtered_words.append(word)\n",
    "\n",
    "    return filtered_words"
   ]
  },
  {
   "cell_type": "markdown",
   "metadata": {},
   "source": [
    "## Ranking\n",
    "In this section, first we will implement weighted PageRank and use this function to implement textRank."
   ]
  },
  {
   "cell_type": "markdown",
   "metadata": {},
   "source": [
    "### PageRank using Power method"
   ]
  },
  {
   "cell_type": "code",
   "execution_count": 45,
   "metadata": {},
   "outputs": [],
   "source": [
    "def get_transition_matrix(A, p=0.15):\n",
    "    one_s = np.ones((A.shape[0], A.shape[0]))\n",
    "    B = (1 / A.shape[0]) * one_s\n",
    "    M = ((1 - p) * A) + (p * B)\n",
    "    return M"
   ]
  },
  {
   "cell_type": "code",
   "execution_count": 46,
   "metadata": {},
   "outputs": [],
   "source": [
    "def power_iteration(transition_weights, rsp=0.15, epsilon=0.00001, max_iterations=1000):\n",
    "    # Clerical work:\n",
    "    transition_weights = pandas.DataFrame(transition_weights)\n",
    "    nodes = page_rank.__extract_nodes(transition_weights)\n",
    "    transition_weights = page_rank.__make_square(transition_weights, nodes, default=0.0)\n",
    "    transition_weights = page_rank.__ensure_rows_positive(transition_weights)\n",
    "\n",
    "    # Setup:\n",
    "    state = page_rank.__start_state(nodes)\n",
    "    transition_probabilities = page_rank.__normalize_rows(transition_weights)\n",
    "    \n",
    "    # Compute transition matrix\n",
    "    # Your code here\n",
    "    M = get_transition_matrix(transition_probabilities, rsp)\n",
    "    V = state\n",
    "    # Power iteration:\n",
    "    # TODO: implement power method\n",
    "    # Use state.copy() for copying to old_state\n",
    "    for iteration in range(max_iterations):\n",
    "        V = V.dot(M)\n",
    "        V = V / V.abs().sum()\n",
    "        \n",
    "    return V"
   ]
  },
  {
   "cell_type": "markdown",
   "metadata": {},
   "source": [
    "### TextRank algorithm\n",
    "Authors used a co-occurrence relation (as we discussed), controlled by the distance between word occurrences: **two vertices are connected** if their corresponding lexical units co-occur within a **window of maximum  words**, where  can be set anywhere from 2 to 10 word.\n",
    "\n",
    "\n",
    "The vertices added to the graph can be restricted with **syntactic filters**, which select only lexical units of a certain part of speech. One can for instance consider only nouns and verbs for addition to the graph, and consequently draw potential edges based only on relations that can be established between nouns and verb. Experiments showed that **best results observed for nouns (\"NN\") and adjectives (\"ADJ\") only**."
   ]
  },
  {
   "cell_type": "code",
   "execution_count": 51,
   "metadata": {},
   "outputs": [],
   "source": [
    "def textrank(document, window_size=2, rsp=0.15, relevant_pos_tags=[\"NN\", \"ADJ\"]):\n",
    "    '''\n",
    "    Accepts a string representation\n",
    "    of a document and returns Pandas matrix that maps words to their related TextRank scores.\n",
    "    Keyword arguments:\n",
    "    window_size: window of maximum words, can be set between 2 to 10. (default 2)\n",
    "    rsp:\n",
    "    relevant_pos_tags: list tags that graph is restricted by (default [\"NN\", \"ADJ\"])\n",
    "    '''\n",
    "    \n",
    "    # Tokenize document:\n",
    "    words = __preprocess_document(document, relevant_pos_tags)\n",
    "    \n",
    "    \n",
    "    # Building the weighted graph:\n",
    "    # nodes: words\n",
    "    # edge weights number of times words cooccur within a window of predetermined size\n",
    "    edge_weights = collections.defaultdict(lambda: collections.Counter())\n",
    "    for index, word in enumerate(words):\n",
    "        for other_index in range(index - window_size, index + window_size + 1):\n",
    "            if other_index >= 0 and other_index < len(words) and other_index != index:\n",
    "                other_word = words[other_index]\n",
    "                edge_weights[word][other_word] += 1.0\n",
    "\n",
    "    # Apply `power_iteration` to `edge_weights` and sort the output\n",
    "    # Your code here\n",
    "    word_probabilities = power_iteration(edge_weights, rsp).sort_values(ascending=False)\n",
    "\n",
    "    \n",
    "    return word_probabilities"
   ]
  },
  {
   "cell_type": "markdown",
   "metadata": {},
   "source": [
    "## Apply TextRank"
   ]
  },
  {
   "cell_type": "code",
   "execution_count": 52,
   "metadata": {},
   "outputs": [],
   "source": [
    "def apply_text_rank(file_name, title=\"a document\"):\n",
    "    print(\"Reading \\\"%s\\\" ...\" % title)\n",
    "    # Opening:\n",
    "    \n",
    "    file_path = os.path.join(os.path.abspath(''), file_name)\n",
    "    document = open(file_path, encoding='utf8').read()\n",
    "    document = text_rank.__ascii_only(document)\n",
    "    \n",
    "    print(\"Applying TextRank to \\\"%s\\\" ...\" % title)\n",
    "    \n",
    "    # TODO: get TextRank vector\n",
    "    keyword_scores = textrank(document)  # Call `textrank` function here with arbitrary inputs\n",
    "\n",
    "    print()\n",
    "    header = \"Keyword Significance Scores for \\\"%s\\\":\" % title\n",
    "    print(header)\n",
    "    print(\"-\" * len(header))\n",
    "    print(keyword_scores)\n",
    "    print()"
   ]
  },
  {
   "cell_type": "markdown",
   "metadata": {},
   "source": [
    "### Cinderalla story"
   ]
  },
  {
   "cell_type": "code",
   "execution_count": 53,
   "metadata": {},
   "outputs": [
    {
     "name": "stdout",
     "output_type": "stream",
     "text": [
      "Reading \"Cinderalla\" ...\n",
      "Applying TextRank to \"Cinderalla\" ...\n",
      "\n",
      "Keyword Significance Scores for \"Cinderalla\":\n",
      "---------------------------------------------\n",
      "ball          0.061122\n",
      "godmother     0.037071\n",
      "cinderella    0.036127\n",
      "slipper       0.023681\n",
      "everyone      0.022730\n",
      "                ...   \n",
      "flick         0.006599\n",
      "coachman      0.006272\n",
      "sobs          0.006258\n",
      "garden        0.006233\n",
      "palace        0.005507\n",
      "Length: 90, dtype: float64\n",
      "\n"
     ]
    }
   ],
   "source": [
    "apply_text_rank(\"data/Cinderalla.txt\", \"Cinderalla\")"
   ]
  },
  {
   "cell_type": "markdown",
   "metadata": {},
   "source": [
    "### Beauty_and_the_Beast story"
   ]
  },
  {
   "cell_type": "code",
   "execution_count": 54,
   "metadata": {},
   "outputs": [
    {
     "name": "stdout",
     "output_type": "stream",
     "text": [
      "Reading \"Beauty and the Beast\" ...\n",
      "Applying TextRank to \"Beauty and the Beast\" ...\n",
      "\n",
      "Keyword Significance Scores for \"Beauty and the Beast\":\n",
      "-------------------------------------------------------\n",
      "prince         0.082345\n",
      "princess       0.074165\n",
      "king           0.062940\n",
      "queen          0.050951\n",
      "kingdom        0.042630\n",
      "baby           0.037179\n",
      "girl           0.036224\n",
      "spindle        0.035761\n",
      "fairy          0.032812\n",
      "lady           0.029869\n",
      "palace         0.026403\n",
      "everyone       0.024609\n",
      "time           0.021454\n",
      "child          0.019617\n",
      "asleep         0.019211\n",
      "bride          0.013313\n",
      "wedding        0.013141\n",
      "way            0.012198\n",
      "sleeping       0.012110\n",
      "royal          0.012093\n",
      "rest           0.011870\n",
      "floor          0.011854\n",
      "slumber        0.011849\n",
      "fairys         0.011781\n",
      "world          0.011714\n",
      "sorry          0.011651\n",
      "spell          0.011606\n",
      "bed            0.011414\n",
      "forest         0.011348\n",
      "spinning       0.011325\n",
      "need           0.011303\n",
      "course         0.011299\n",
      "turn           0.011295\n",
      "moment         0.011195\n",
      "back           0.011171\n",
      "well           0.011154\n",
      "everybody      0.011134\n",
      "kind           0.010918\n",
      "birth          0.010896\n",
      "land           0.010893\n",
      "celebration    0.010618\n",
      "snoring        0.010616\n",
      "day            0.010591\n",
      "soon           0.010576\n",
      "sleep          0.010401\n",
      "die            0.010346\n",
      "crying         0.010238\n",
      "one            0.010062\n",
      "permission     0.009972\n",
      "love           0.009943\n",
      "speak          0.009942\n",
      "dtype: float64\n",
      "\n"
     ]
    }
   ],
   "source": [
    "apply_text_rank(\"data/Beauty_and_the_Beast.txt\", \"Beauty and the Beast\")"
   ]
  },
  {
   "cell_type": "code",
   "execution_count": 11,
   "metadata": {},
   "outputs": [],
   "source": [
    "# Optional: test textRank on another documents :))"
   ]
  },
  {
   "cell_type": "code",
   "execution_count": 62,
   "metadata": {},
   "outputs": [
    {
     "name": "stdout",
     "output_type": "stream",
     "text": [
      "\n",
      "Keyword Significance Scores for \"sunday\":\n",
      "-----------------------------------------\n",
      "sunday         0.327665\n",
      "computer       0.157372\n",
      "course         0.153227\n",
      "engineering    0.152895\n",
      "project        0.119453\n",
      "name           0.089388\n",
      "dtype: float64\n",
      "\n"
     ]
    }
   ],
   "source": [
    "def plain_text_textrank(document, title):\n",
    "    keyword_scores = textrank(document)  # Call `textrank` function here with arbitrary inputs\n",
    "\n",
    "    print()\n",
    "    header = \"Keyword Significance Scores for \\\"%s\\\":\" % title\n",
    "    print(header)\n",
    "    print(\"-\" * len(header))\n",
    "    print(keyword_scores)\n",
    "    print()\n",
    "\n",
    "plain_text_textrank(\"Hello, My name is Sepehr Shirani in sunday, I study computer engineering\"\n",
    "                    +\" in sunday and instead of relaxing in sunday I do my linear algebra course's project in sunday\",\n",
    "                   \"sunday\")"
   ]
  },
  {
   "cell_type": "code",
   "execution_count": 67,
   "metadata": {},
   "outputs": [
    {
     "name": "stdout",
     "output_type": "stream",
     "text": [
      "\n",
      "Keyword Significance Scores for \"bad boy\":\n",
      "------------------------------------------\n",
      "engineer    0.277065\n",
      "computer    0.212409\n",
      "student     0.212409\n",
      "name        0.149059\n",
      "lagebra     0.149059\n",
      "dtype: float64\n",
      "\n"
     ]
    }
   ],
   "source": [
    "plain_text_textrank(\"Hi, my name is bad Sepehr Shirnai also know as bad. I am a very bad computer engineer student.\"\n",
    "                    +\" specially I am bad at linear lagebra\",\n",
    "                   \"bad boy\")"
   ]
  },
  {
   "cell_type": "code",
   "execution_count": null,
   "metadata": {},
   "outputs": [],
   "source": []
  }
 ],
 "metadata": {
  "kernelspec": {
   "display_name": "Python 3",
   "language": "python",
   "name": "python3"
  },
  "language_info": {
   "codemirror_mode": {
    "name": "ipython",
    "version": 3
   },
   "file_extension": ".py",
   "mimetype": "text/x-python",
   "name": "python",
   "nbconvert_exporter": "python",
   "pygments_lexer": "ipython3",
   "version": "3.9.13"
  }
 },
 "nbformat": 4,
 "nbformat_minor": 4
}
